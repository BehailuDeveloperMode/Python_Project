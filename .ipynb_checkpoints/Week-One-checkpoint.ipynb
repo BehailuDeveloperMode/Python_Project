{
 "cells": [
  {
   "cell_type": "markdown",
   "id": "7a6135e5-5821-4d68-a60d-05720d64b493",
   "metadata": {},
   "source": [
    "# Basic Built - In Data Type"
   ]
  },
  {
   "cell_type": "markdown",
   "id": "b3603294-c24e-4fa3-8107-f847c0ca6dbd",
   "metadata": {},
   "source": [
    "# Category Number\n",
    "### int, float, complex Data Type"
   ]
  },
  {
   "cell_type": "code",
   "execution_count": 1,
   "id": "7a27859d-b8f5-4c47-9d28-d6ef5de790e7",
   "metadata": {
    "scrolled": true
   },
   "outputs": [
    {
     "name": "stdout",
     "output_type": "stream",
     "text": [
      "<class 'int'>\n",
      "<class 'float'>\n",
      "35.55\n",
      "<class 'float'>\n"
     ]
    }
   ],
   "source": [
    "num1 = 12\n",
    "num2 = 23.55\n",
    "print(type(num1))\n",
    "print(type(num2))\n",
    "sum = num1 + num2   # If we add an int datatype with the float datatype, the result will be a float.\n",
    "print(sum)\n",
    "print(type(sum))"
   ]
  },
  {
   "cell_type": "markdown",
   "id": "d0563645-ad6d-4b13-9871-d34865c091cf",
   "metadata": {},
   "source": [
    "# Category Text Data Type\n",
    "#### String (str) Data type"
   ]
  },
  {
   "cell_type": "code",
   "execution_count": 2,
   "id": "c7f76f71-97b8-47c0-9c5e-c66f8452b4a2",
   "metadata": {
    "scrolled": true
   },
   "outputs": [
    {
     "name": "stdout",
     "output_type": "stream",
     "text": [
      "<class 'str'>\n",
      "<class 'str'>\n",
      "<class 'str'>\n",
      "Your name is John Smith and Your email address is jsmith@domain.com\n"
     ]
    }
   ],
   "source": [
    "fname = \"John\"\n",
    "lname = \"Smith\"\n",
    "email = \"jsmith@domain.com\"\n",
    "print(type(fname))\n",
    "print(type(lname))\n",
    "print(type(email))\n",
    "print (\"Your name is \" + fname + \" \" + lname + \" and Your email address is \" + email)"
   ]
  },
  {
   "cell_type": "markdown",
   "id": "1cd92135-c98d-487c-9bc8-32db661bca78",
   "metadata": {},
   "source": [
    "# Category Boolean Data Type\n",
    "#### Boolean Data Type example (\"True\", or \"False\")"
   ]
  },
  {
   "cell_type": "code",
   "execution_count": 3,
   "id": "9e989677-fa75-4fc2-b362-d439715e5a06",
   "metadata": {},
   "outputs": [
    {
     "name": "stdout",
     "output_type": "stream",
     "text": [
      "<class 'bool'>\n"
     ]
    }
   ],
   "source": [
    "# In Python, Boolean values can only be `True` or `False`.\n",
    "paymentstatus = True    \n",
    "print(type(paymentstatus))"
   ]
  },
  {
   "cell_type": "markdown",
   "id": "f2122241-685f-4a30-967d-af6ea4fbd433",
   "metadata": {},
   "source": [
    "# Category Collection Data Type\n",
    "## List, Tuple, Set, Frozenset, Dict"
   ]
  },
  {
   "cell_type": "markdown",
   "id": "27e0941b-b987-4586-a3b9-d2e0dc7e36f5",
   "metadata": {},
   "source": [
    "### List data type - [ ] - example [1,2,3],[\"a\", \"b\", \"c\"] or both [\"a\", \"b\", \"c\", 1, 2, 3]\n",
    "# List in Python.\n",
    "#### # The value has to be placed in the square bracket. And also ordered and changeable collection.\n",
    "#### # A list is one of Python's most versatile data structures. \n",
    "#### # Lists are represented using square brackets \"[]\", with elements separated by commas.\n",
    "#### # It's an ordered, mutable collection that can store elements of different data types.\n",
    "#### # A list value can be duplicated; the exact values can appear multiple times.\n",
    "#### # A single list can contain integers, strings, floats, other lists, etc.\n",
    "#### # The value index started from 0 and continued; lists can contain different data types.\n",
    "#### # A list of Elements maintains its insertion order.\n",
    "#### # Key characteristics:\n",
    "#### # *Ordered*: Elements maintain their insertion order.\n",
    "#### # *Mutable*: Can be modified after creation (add, remove, or change elements)\n",
    "#### # *Indexed*: Elements can be accessed by position (starting from 0)\n",
    "#### # *Can contain duplicates*: The exact value can appear multiple times\n",
    "#### # *Can store mixed data types*: A single list can contain integers, strings, floats, other lists, etc."
   ]
  },
  {
   "cell_type": "code",
   "execution_count": 4,
   "id": "ff784e3f-7508-4c7f-b297-90a4c8b8815f",
   "metadata": {
    "scrolled": true
   },
   "outputs": [
    {
     "name": "stdout",
     "output_type": "stream",
     "text": [
      "<class 'list'>\n",
      "Abebe at index position 0.\n",
      "Lema at index position 1.\n",
      "Aster at index position 2.\n",
      "Ayele at index position 3.\n",
      "Abel at index position 4.\n",
      "Andualem at index position 5.\n"
     ]
    }
   ],
   "source": [
    "students = [\"Abebe\",\"Lema\",\"Aster\",\"Ayele\",\"Abel\",\"Andualem\"]\n",
    " # Example: change the student name \"Ayele\" to the student name \"Alemu\"\n",
    " # Step to follow first: find the index position of the student name \"Ayele\" by counting the value. \n",
    " # And assign the number 0 as a starting index position.\n",
    "# \"Abebe\" position == 0, \"Lema\" possition == 1, \"Aster\" position == 2 .... and so on. \n",
    "print(type(students))\n",
    "print(students[0]  + \" at index position 0.\")\n",
    "print(students[1]  + \" at index position 1.\")\n",
    "print(students[2]  + \" at index position 2.\")\n",
    "print(students[3]  + \" at index position 3.\")\n",
    "print(students[4]  + \" at index position 4.\")\n",
    "print(students[5]  + \" at index position 5.\")\n"
   ]
  },
  {
   "cell_type": "code",
   "execution_count": 5,
   "id": "1a215578-b59f-4bce-8bbb-cb6ee7c8b5e9",
   "metadata": {},
   "outputs": [
    {
     "name": "stdout",
     "output_type": "stream",
     "text": [
      "<class 'list'>\n",
      "['A', 'B', 'C', 'D']\n",
      "A\n",
      "['A', 'B', 'C', 'D', 'E']\n",
      "[1, 'A', 'B', 'C', 'D', 'E']\n",
      "[1, 'A', 'C', 'D', 'E']\n",
      "[1, 'C', 'D', 'E']\n",
      "['D', 'E']\n",
      "4\n",
      "[1, 'C', 'D', 'E']\n",
      "True\n",
      "[1, 'C', 'D', 'E']\n"
     ]
    }
   ],
   "source": [
    "my_list = [\"A\", \"B\", \"C\", \"D\"]\n",
    "print(type(my_list))        \n",
    "print(my_list) # Accessing: will display the list values.\n",
    "print(my_list[0]) # (first element) # By default, the index starting position will be 0.        \n",
    "my_list.append(\"E\") # Adding: we can insert directly.\n",
    "print(my_list)   # or     \n",
    "my_list.insert(0, 1) # We can insert values using the index values.\n",
    "print(my_list)       \n",
    "del my_list[2]  # Removing:\n",
    "print(my_list)  # or\n",
    "my_list.remove(\"A\") # This function helps remove the list.\n",
    "print(my_list)\n",
    " # It will return the 2nd position from the given list, count four (4) elements, and retrieve those elements.\n",
    "print(my_list[2:4]) # Slicing:  (elements from index 1 to 2)        \n",
    "print(len(my_list)) # Length: This function helps us count the length of the list \n",
    "print(my_list)\n",
    "if \"E\" in my_list:  # Checking membership:\n",
    "    print(\"True\")\n",
    "else:\n",
    "    print(\"False\")\n",
    "print(my_list)    "
   ]
  },
  {
   "cell_type": "code",
   "execution_count": 12,
   "id": "baea9346-8dae-4d84-b02c-c349003eb15a",
   "metadata": {
    "scrolled": true
   },
   "outputs": [
    {
     "name": "stdout",
     "output_type": "stream",
     "text": [
      "<class 'list'>\n",
      "['Abebe', 'Abebe', 'Tamerat', 'Henok', 'Kebede', 'Kebede', 'Ayele', 1, 2.5]\n",
      "['Tamerat', 'Henok', 'Kebede']\n",
      "9\n",
      "['Selomon', 'Abebe', 'Tamerat', 'Henok', 'Kebede', 'Kebede', 'Ayele', 1, 2.5]\n",
      "Selomon\n",
      "['Selomon', 'Abebe', 'Tamerat', 'Henok', 'Kebede', 'Kebede', 'Ayele', 1, 2.5, 'Sara']\n",
      "['Selomon', 'Tamerat', 'Henok', 'Kebede', 'Kebede', 'Ayele', 1, 2.5, 'Sara']\n",
      "Selomon\n",
      "Selomon\n",
      "Tamerat\n",
      "Henok\n",
      "Kebede\n",
      "Kebede\n",
      "Ayele\n",
      "1\n",
      "2.5\n",
      "Sara\n"
     ]
    }
   ],
   "source": [
    "studentname = [\"Abebe\", \"Abebe\",\"Tamerat\",\"Henok\", \"Kebede\", \"Kebede\", \"Ayele\",1,2.5]                 \n",
    "print(type(studentname))              \n",
    "print((studentname))            \n",
    "studentname[0] = \"Selomon\" # The index position value zero \"0\" changed to \"Selomon\".         \n",
    "print (studentname[2:5])            \n",
    "print(len(studentname))    \n",
    "print(studentname)  \n",
    "print(studentname[0])\n",
    "studentname.append(\"Sara\")\n",
    "print(studentname) \n",
    "studentname.remove(\"Abebe\") \n",
    "print (studentname) \n",
    "print (studentname[0])\n",
    "for family_group  in studentname:\n",
    "    print(family_group)"
   ]
  },
  {
   "cell_type": "markdown",
   "id": "bd68c5b8-7c06-4db2-9ba2-896627da9a6f",
   "metadata": {},
   "source": [
    "# Tuple data type - ( ) - example (1,2,3),(\"a\", \"b\", \"c\") or (\"a\", \"b\", \"c\", 1,2,3)\n",
    "# Tuple in Python.\n",
    "#### # The value has to be placed in the parentheses and ordered, an unchangeable collection.\n",
    "#### # A tuple is an ordered, immutable collection of elements in Python. Here's what you need to know about tuples:\n",
    "#### # *Definition*: A tuple is created by placing elements inside parentheses \"()\", separated by commas.\n",
    "#### # *Immutability*: Unlike lists, tuples cannot be modified after creation. You cannot add, remove, or change elements.\n",
    "#### # *Indexing*: Elements in a tuple can be accessed using zero-based indexing, just like lists.\n",
    "#### # *Use cases*: Tuples are commonly used for:\n",
    "#### # Returning multiple values from functions\n",
    "#### # Dictionary keys (when containing only immutable elements)\n",
    "#### # Data that shouldn't change throughout program execution\n",
    "#### # Tuples are more memory efficient than lists and can be used as a signal that the data shouldn't be modified.\n",
    "#### # on the object tuple does not support the item or value change.\n",
    "#### # The code will raise a TypeError because tuples are immutable in Python. \n",
    "#### # Meaning their elements cannot be changed after they are created."
   ]
  },
  {
   "cell_type": "code",
   "execution_count": null,
   "id": "9a0f6d41-cb42-46b0-90cb-8923f4e9eae7",
   "metadata": {
    "scrolled": true
   },
   "outputs": [],
   "source": [
    "month1 = (\"Jan\", \"Feb\", \"Mar\", \"Apr\", \"May\", \"Jun\")\n",
    "month2 = (\"Jul\", \"Aug\", \"Sep\", \"Oct\", \"Nov\", \"Dec\")\n",
    "months = month1 + month2\n",
    "print(type(months))\n",
    "print(months)\n",
    "print(months[3])\n",
    "print(\"The 4th month of the year is  \" + months[3]) # we can retrieve the exact single value from the given Tuple values\n",
    "print(len(months))\n",
    "print(months[4:8])\n",
    "if \"Nov\" in months: # Check membership: if the month name \"Nov\" exists \n",
    "    print (\"Yes, the month 'Nov' exists.\")\n",
    "else:\n",
    "    print (\"No, the month 'Nov' doesn't exist \")"
   ]
  },
  {
   "cell_type": "code",
   "execution_count": null,
   "id": "c07127c6-6611-48a6-880a-16142501dfb3",
   "metadata": {
    "jp-MarkdownHeadingCollapsed": true,
    "scrolled": true
   },
   "outputs": [],
   "source": [
    "months = (\"Jan\", \"Feb\", \"Mar\", \"Apr\", \"May\", \"Jun\", \"Jul\", \"Aug\", \"Sep\", \"Oct\", \"Nov\", \"Dec\")\n",
    "### example: change the value of index 2, which is Mar value, to Test. \n",
    "print(type(months))\n",
    "print(months)\n",
    "months[2]= \"Test\" \n",
    "print(months)"
   ]
  },
  {
   "cell_type": "markdown",
   "id": "5bd89db3-4928-4d06-a234-394ffec2874e",
   "metadata": {},
   "source": [
    "### Set data type - { } - example {1,2,3},{\"a\", \"b\",\" c\"}\n",
    "# Sets in Python\n",
    "#### # The value must be placed in the curly Braces, an unordered, no-duplication collection.\n",
    "#### # A set is an unordered collection of unique elements in Python. Here's what you need to know about sets:\n",
    "#### # *Definition*: A set is created by placing elements inside curly braces `{}` or using the `set()` constructor.\n",
    "#### # *Key characteristics*:\n",
    "#### # *Unordered*: Elements in a set have no defined order\n",
    "#### # *Unique elements**: Duplicates are automatically removed\n",
    "#### # *Mutable*: Sets can be modified after creation\n",
    "#### # *Can only contain immutable elements*: Numbers, strings, tuples (but not lists or dictionaries)\n",
    "#### # Removing duplicates from a collection\n",
    "#### # Membership testing (faster than lists)\n",
    "#### # Mathematical set operations\n",
    "#### # When order doesn't matter but uniqueness does\n",
    "#### # Sets in Python automatically eliminate duplicates, which is one of their key characteristics and use cases.\n",
    "#### # Sets are particularly efficient for membership testing and eliminating duplicate entries.\n",
    "#### # Elements in a set have no defined order\n",
    "#### # Duplicates are automatically removed"
   ]
  },
  {
   "cell_type": "code",
   "execution_count": 3,
   "id": "466e1af5-8782-499a-82d5-b114e2c009ea",
   "metadata": {
    "scrolled": true
   },
   "outputs": [
    {
     "name": "stdout",
     "output_type": "stream",
     "text": [
      "<class 'set'>\n",
      "{'Zaki', 'Abera', 'Abel', 'Ayele', 'Andualem', 'Yonas'}\n"
     ]
    }
   ],
   "source": [
    "# **Common operations**:\n",
    "# Add element: `my_set.add(element)`\n",
    "# Remove element: `my_set.remove(element)` or `my_set.discard(element)`\n",
    "# Union: `set1 | set2` or `set1.union(set2)`\n",
    "# Intersection: `set1 & set2` or `set1.intersection(set2)`\n",
    "# Difference: `set1 - set2` or `set1.difference(set2)`\n",
    "# Symmetric difference: `set1 ^ set2` or `set1.symmetric_difference(set2)`\n",
    "# Check membership: `element in my_set`.\n",
    "# **Use cases**:\n",
    "set1 = {\"Abel\", \"Abel\", \"Ayele\",\"Yonas\", \"Abera\",\"Andualem\",\"Zaki\"}\n",
    "# Duplicates are automatically removed.\n",
    "print(type(set1))\n",
    "print(set1)"
   ]
  }
 ],
 "metadata": {
  "kernelspec": {
   "display_name": "Python 3 (ipykernel)",
   "language": "python",
   "name": "python3"
  },
  "language_info": {
   "codemirror_mode": {
    "name": "ipython",
    "version": 3
   },
   "file_extension": ".py",
   "mimetype": "text/x-python",
   "name": "python",
   "nbconvert_exporter": "python",
   "pygments_lexer": "ipython3",
   "version": "3.12.7"
  }
 },
 "nbformat": 4,
 "nbformat_minor": 5
}
