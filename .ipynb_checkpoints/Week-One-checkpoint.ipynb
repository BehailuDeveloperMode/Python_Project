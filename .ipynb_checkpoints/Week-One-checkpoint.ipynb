{
 "cells": [
  {
   "cell_type": "markdown",
   "id": "7a6135e5-5821-4d68-a60d-05720d64b493",
   "metadata": {},
   "source": [
    "# Basic Built - In Data Type"
   ]
  },
  {
   "cell_type": "markdown",
   "id": "b3603294-c24e-4fa3-8107-f847c0ca6dbd",
   "metadata": {},
   "source": [
    "# Category Numbers\n",
    "## int, float, complex Data Type"
   ]
  },
  {
   "cell_type": "code",
   "execution_count": 6,
   "id": "7a27859d-b8f5-4c47-9d28-d6ef5de790e7",
   "metadata": {
    "scrolled": true
   },
   "outputs": [
    {
     "name": "stdout",
     "output_type": "stream",
     "text": [
      "<class 'int'>\n",
      "<class 'float'>\n",
      "35.55\n",
      "<class 'float'>\n"
     ]
    }
   ],
   "source": [
    "num1 = 12\n",
    "num2 = 23.55\n",
    "print(type(num1))\n",
    "print(type(num2))\n",
    "sum = num1 + num2   # If we add an int datatype with the float datatype, the result will be a float.\n",
    "print(sum)\n",
    "print(type(sum))"
   ]
  },
  {
   "cell_type": "markdown",
   "id": "d0563645-ad6d-4b13-9871-d34865c091cf",
   "metadata": {},
   "source": [
    "# Category Text Data Type\n",
    "#### String (str) Data type"
   ]
  },
  {
   "cell_type": "code",
   "execution_count": 8,
   "id": "c7f76f71-97b8-47c0-9c5e-c66f8452b4a2",
   "metadata": {
    "scrolled": true
   },
   "outputs": [
    {
     "name": "stdout",
     "output_type": "stream",
     "text": [
      "<class 'str'>\n",
      "<class 'str'>\n",
      "<class 'str'>\n",
      "Your name is John Smith and Your email address is jsmith@domain.com\n"
     ]
    }
   ],
   "source": [
    "fname = \"John\"\n",
    "lname = \"Smith\"\n",
    "email = \"jsmith@domain.com\"\n",
    "print(type(fname))\n",
    "print(type(lname))\n",
    "print(type(email))\n",
    "print (\"Your name is \" + fname + \" \" + lname + \" and Your email address is \" + email)"
   ]
  },
  {
   "cell_type": "markdown",
   "id": "1cd92135-c98d-487c-9bc8-32db661bca78",
   "metadata": {},
   "source": [
    "# Category Boolean Data Type\n",
    "#### Boolean Data Type example (\"True\", or \"False\")"
   ]
  },
  {
   "cell_type": "code",
   "execution_count": 10,
   "id": "9e989677-fa75-4fc2-b362-d439715e5a06",
   "metadata": {},
   "outputs": [
    {
     "name": "stdout",
     "output_type": "stream",
     "text": [
      "<class 'bool'>\n"
     ]
    }
   ],
   "source": [
    "# In Python, Boolean values can only be `True` or `False`.\n",
    "paymentstatus = True    \n",
    "print(type(paymentstatus))"
   ]
  },
  {
   "cell_type": "markdown",
   "id": "f2122241-685f-4a30-967d-af6ea4fbd433",
   "metadata": {},
   "source": [
    "# Category Collection Data Type\n",
    "## list, tuple, set, frozenset, dict"
   ]
  },
  {
   "cell_type": "markdown",
   "id": "27e0941b-b987-4586-a3b9-d2e0dc7e36f5",
   "metadata": {},
   "source": [
    "### List data type - [ ] - example [1,2,3],[\"a\",\"b\",\"c\"] \n",
    "#### the value has to be placed in the square bracket. And also ordered and changeable collection."
   ]
  },
  {
   "cell_type": "markdown",
   "id": "36a55871-357e-467b-b4ba-9b4461262049",
   "metadata": {},
   "source": []
  },
  {
   "cell_type": "code",
   "execution_count": 14,
   "id": "ff784e3f-7508-4c7f-b297-90a4c8b8815f",
   "metadata": {
    "scrolled": true
   },
   "outputs": [
    {
     "name": "stdout",
     "output_type": "stream",
     "text": [
      "[1, 2, 3]\n",
      "1\n",
      "[2, 3]\n",
      "None\n",
      "None\n",
      "None\n",
      "3\n",
      "False\n",
      "[0, 1, 4]\n",
      "<class 'list'>\n",
      "['Abebe', 'Abebe', 'Tamerat', 'Henok', 'Kebede', 'Kebede', 'Ayele', 1, 2.5]\n",
      "['Tamerat', 'Henok', 'Kebede']\n",
      "['Selomon', 'Abebe', 'Tamerat', 'Henok', 'Kebede', 'Kebede', 'Ayele', 1, 2.5]\n",
      "9\n",
      "['Selomon', 'Abebe', 'Tamerat', 'Henok', 'Kebede', 'Kebede', 'Ayele', 1, 2.5]\n"
     ]
    }
   ],
   "source": [
    "# List in Python.\n",
    "# Lists are represented using square brackets \"[]\", with elements separated by commas.\n",
    "# A list is one of Python's most versatile data structures. \n",
    "# It's an ordered, mutable collection that can store elements of different data types.\n",
    "                ## Key characteristics:\n",
    "        # **Ordered**: Elements maintain their insertion order.\n",
    "        # **Mutable**: Can be modified after creation (add, remove, or change elements)\n",
    "        # **Indexed**: Elements can be accessed by position (starting from 0)\n",
    "        # **Can contain duplicates**: The exact value can appear multiple times\n",
    "        # **Can store mixed data types**: A single list can contain integers, strings, floats, other lists, etc.\n",
    "              ## Common list operations:\n",
    "        # Creating: \n",
    "my_list = [1, 2, 3]\n",
    "        # Accessing:\n",
    "print(my_list)\n",
    "print(my_list[0]) # (first element)\n",
    "        # Slicing: \n",
    "print(my_list[1:3]) # (elements from index 1 to 2)\n",
    "        # Adding: \n",
    "print(my_list.append(4))  # or \n",
    "print(my_list.insert(0, 0))\n",
    "        # Removing:\n",
    "del my_list[2]\n",
    "print(my_list.remove(3))  # or \n",
    "        # Length: \n",
    "print(len(my_list))\n",
    "        # Checking membership: \n",
    "if 2 in my_list:\n",
    "    print(\"True\")\n",
    "else:\n",
    "    print(\"False\")\n",
    "print(my_list)    \n",
    "    # ======================================\n",
    "studentname = [\"Abebe\", \"Abebe\",\"Tamerat\",\"Henok\", \"Kebede\",\"Kebede\", \"Ayele\",1,2.5] \n",
    "# A list of Elements maintains their insertion order.\n",
    "print(type(studentname)) \n",
    " # The value index started from 0 and continued; lists can contain different data types.\n",
    "print((studentname)) \n",
    "# The index position value zero \"0\"  changed to \"Selomon\"\n",
    "studentname[0] = \"Selomon\" \n",
    "# It will return the 2nd position from the given list, count four (4) elements in the list, and retrieve those elements.\n",
    "print (studentname[2:5]) \n",
    "# A list value can be duplicated; the exact values can appear multiple times. \n",
    "print(studentname)\n",
    "# If we want he value of the length of the list.\n",
    "print(len(studentname)) \n",
    "# A single list can contain integers, strings, floats, other lists, etc.\n",
    "print(studentname) "
   ]
  },
  {
   "cell_type": "code",
   "execution_count": 15,
   "id": "8546108c-c4cc-4894-a8ef-3ab215664121",
   "metadata": {},
   "outputs": [
    {
     "name": "stdout",
     "output_type": "stream",
     "text": [
      "<class 'list'>\n",
      "['Sudan', 'Ethiopia', 'Kenya']\n",
      "Sudan\n"
     ]
    }
   ],
   "source": [
    "country = [\"Sudan\", \"Ethiopia\", \"Kenya\"]\n",
    "print(type(country))\n",
    "print(country)\n",
    "print(country[0]) # By default, the index starting position will be 0."
   ]
  },
  {
   "cell_type": "code",
   "execution_count": 16,
   "id": "95622a8f-3cb8-48ae-b917-69761e8280d5",
   "metadata": {},
   "outputs": [
    {
     "name": "stdout",
     "output_type": "stream",
     "text": [
      "<class 'list'>\n",
      "Ethiopia\n",
      "Sudan\n",
      "Kenya\n"
     ]
    }
   ],
   "source": [
    "country = [\"Ethiopia\", \"Sudan\", \"Kenya\"]\n",
    "print(type(country))\n",
    "for countries in country:\n",
    "    print(countries)"
   ]
  },
  {
   "cell_type": "code",
   "execution_count": 17,
   "id": "609b598c-aaf8-43df-9dff-adadbae64b5f",
   "metadata": {},
   "outputs": [
    {
     "name": "stdout",
     "output_type": "stream",
     "text": [
      "<class 'list'>\n",
      "['Ethiopia', 'Sudan', 'Kenya']\n",
      "Ethiopia\n",
      "Egypt\n",
      "Kenya\n"
     ]
    }
   ],
   "source": [
    "Country = [\"Ethiopia\", \"Sudan\", \"Kenya\"] # if we want to replace the value with different values.\n",
    "## example change country \"Sudan\" to Country name \"Egypt\"\n",
    "print(type(country))\n",
    "print(country)\n",
    "country[1] = \"Egypt\"\n",
    "for f in country:\n",
    "    print(f)"
   ]
  },
  {
   "cell_type": "code",
   "execution_count": 18,
   "id": "85f445d0-b463-4e41-b224-daca9c69358a",
   "metadata": {},
   "outputs": [
    {
     "name": "stdout",
     "output_type": "stream",
     "text": [
      "<class 'list'>\n",
      "Abebe at index position 0.\n",
      "Lema at index position 1.\n",
      "Aster at index position 2.\n",
      "Ayele at index position 3.\n",
      "Abel at index position 4.\n",
      "Andualem at index position 5.\n"
     ]
    }
   ],
   "source": [
    "students = [\"Abebe\",\"Lema\",\"Aster\",\"Ayele\",\"Abel\",\"Andualem\"]\n",
    " # Example: change the student name \"Ayele\" to the student name \"Alemu\"\n",
    " # Step to follow first: find the index position of the student name \"Ayele\" by counting the value. \n",
    " # And assign the number 0 as a starting index position.\n",
    "# \"Abebe\" position == 0, \"Lema\" possition == 1, \"Aster\" position == 2 .... and so on. \n",
    "print(type(students))\n",
    "print(students[0]  + \" at index position 0.\")\n",
    "print(students[1]  + \" at index position 1.\")\n",
    "print(students[2]  + \" at index position 2.\")\n",
    "print(students[3]  + \" at index position 3.\")\n",
    "print(students[4]  + \" at index position 4.\")\n",
    "print(students[5]  + \" at index position 5.\")"
   ]
  },
  {
   "cell_type": "markdown",
   "id": "bd68c5b8-7c06-4db2-9ba2-896627da9a6f",
   "metadata": {},
   "source": [
    "### Tuple data type - ( ) - example (1,2,3),(\"a\",\"b\",\"c\")\n",
    "#### The value has to be placed in the parentheses and ordered, an unchangeable collection."
   ]
  },
  {
   "cell_type": "code",
   "execution_count": 20,
   "id": "9a0f6d41-cb42-46b0-90cb-8923f4e9eae7",
   "metadata": {
    "scrolled": true
   },
   "outputs": [
    {
     "name": "stdout",
     "output_type": "stream",
     "text": [
      "<class 'tuple'>\n",
      "('Jan.', 'Feb.', 'Mar.', 'Apr.', 'May.', 'Jun.', 'Jul.', 'Aug.', 'Sep.', 'Oct.', 'Nov.', 'Dec.')\n",
      "Apr.\n",
      "The 4th month of the year is  Apr.\n"
     ]
    }
   ],
   "source": [
    "# Tuple in Python.\n",
    "# A tuple is an ordered, immutable collection of elements in Python. Here's what you need to know about tuples:\n",
    "# **Definition**: A tuple is created by placing elements inside parentheses \"()\", separated by commas.\n",
    "# **Immutability**: Unlike lists, tuples cannot be modified after creation. You cannot add, remove, or change elements.\n",
    "# **Indexing**: Elements in a tuple can be accessed using zero-based indexing, just like lists.\n",
    "                   ## **Common operations**:\n",
    "         # Access elements: `my_tuple[0]`\n",
    "         # Slicing: `my_tuple[1:3]`\n",
    "         # Length: `len(my_tuple)`\n",
    "         # Concatenation: `tuple1 + tuple2`\n",
    "         # Check membership: `element in my_tuple`\n",
    "                 ## **Use cases**: Tuples are commonly used for:\n",
    "         # Returning multiple values from functions\n",
    "         # Dictionary keys (when containing only immutable elements)\n",
    "         # Data that shouldn't change throughout program execution\n",
    "         # Tuples are more memory efficient than lists and can be used as a signal that the data shouldn't be modified.\n",
    "months = (\"Jan.\", \"Feb.\", \"Mar.\", \"Apr.\", \"May.\", \"Jun.\", \"Jul.\", \"Aug.\", \"Sep.\", \"Oct.\", \"Nov.\", \"Dec.\")\n",
    "print(type(months))\n",
    "print(months)\n",
    "print(months[3])\n",
    "print(\"The 4th month of the year is  \" + months[3]) # we can retrieve the exact single value from the given Tuple values"
   ]
  },
  {
   "cell_type": "code",
   "execution_count": 21,
   "id": "c07127c6-6611-48a6-880a-16142501dfb3",
   "metadata": {
    "jp-MarkdownHeadingCollapsed": true
   },
   "outputs": [
    {
     "name": "stdout",
     "output_type": "stream",
     "text": [
      "<class 'tuple'>\n",
      "('Jan', 'Feb', 'Mar', 'Apr', 'May', 'Jun', 'Jul', 'Aug', 'Sep', 'Oct', 'Nov', 'Dec')\n"
     ]
    },
    {
     "ename": "TypeError",
     "evalue": "'tuple' object does not support item assignment",
     "output_type": "error",
     "traceback": [
      "\u001b[1;31m---------------------------------------------------------------------------\u001b[0m",
      "\u001b[1;31mTypeError\u001b[0m                                 Traceback (most recent call last)",
      "Cell \u001b[1;32mIn[21], line 9\u001b[0m\n\u001b[0;32m      7\u001b[0m \u001b[38;5;28mprint\u001b[39m(\u001b[38;5;28mtype\u001b[39m(months))\n\u001b[0;32m      8\u001b[0m \u001b[38;5;28mprint\u001b[39m(months)\n\u001b[1;32m----> 9\u001b[0m months[\u001b[38;5;241m2\u001b[39m]\u001b[38;5;241m=\u001b[39m \u001b[38;5;124m\"\u001b[39m\u001b[38;5;124mTest\u001b[39m\u001b[38;5;124m\"\u001b[39m\n\u001b[0;32m     10\u001b[0m \u001b[38;5;28mprint\u001b[39m(months)\n",
      "\u001b[1;31mTypeError\u001b[0m: 'tuple' object does not support item assignment"
     ]
    }
   ],
   "source": [
    "months = (\"Jan\", \"Feb\", \"Mar\", \"Apr\", \"May\", \"Jun\", \"Jul\", \"Aug\", \"Sep\", \"Oct\", \"Nov\", \"Dec\")\n",
    "### example: change the value of index 2, which is Mar value, to Test.\n",
    "### on the object tuple does not support the item or value change.\n",
    "# The code will raise a `TypeError` because tuples are immutable in Python. \n",
    "# Meaning their elements cannot be changed after they are created. \n",
    "\n",
    "print(type(months))\n",
    "print(months)\n",
    "months[2]= \"Test\"\n",
    "print(months)"
   ]
  },
  {
   "cell_type": "markdown",
   "id": "5bd89db3-4928-4d06-a234-394ffec2874e",
   "metadata": {},
   "source": [
    "### Set data type - { } - example {1,2,3},{\"a\", \"b\",\" c\"}\n",
    "#### The value must be placed in the curly Braces, an unordered, no-duplication collection."
   ]
  },
  {
   "cell_type": "code",
   "execution_count": null,
   "id": "466e1af5-8782-499a-82d5-b114e2c009ea",
   "metadata": {},
   "outputs": [],
   "source": [
    "# Sets in Python\n",
    "# A set is an unordered collection of unique elements in Python. Here's what you need to know about sets:\n",
    "# **Definition**: A set is created by placing elements inside curly braces `{}` or using the `set()` constructor.\n",
    "                         ## **Key characteristics**:\n",
    "          # **Unordered**: Elements in a set have no defined order\n",
    "          # **Unique elements**: Duplicates are automatically removed\n",
    "          # **Mutable**: Sets can be modified after creation\n",
    "          # **Can only contain immutable elements**: Numbers, strings, tuples (but not lists or dictionaries)\n",
    "                        ## **Common operations**:\n",
    "          # Add element: `my_set.add(element)`\n",
    "          # Remove element: `my_set.remove(element)` or `my_set.discard(element)`\n",
    "          # Union: `set1 | set2` or `set1.union(set2)`\n",
    "          # Intersection: `set1 & set2` or `set1.intersection(set2)`\n",
    "          # Difference: `set1 - set2` or `set1.difference(set2)`\n",
    "          # Symmetric difference: `set1 ^ set2` or `set1.symmetric_difference(set2)`\n",
    "          # Check membership: `element in my_set`.\n",
    "                       ## **Use cases**:\n",
    "          # Removing duplicates from a collection\n",
    "          # Membership testing (faster than lists)\n",
    "          # Mathematical set operations\n",
    "          # When order doesn't matter but uniqueness does\n",
    "# Sets in Python automatically eliminate duplicates, one of their key characteristics and use cases.\n",
    "# Sets are particularly efficient for membership testing and eliminating duplicate entries.\n",
    "# Elements in a set have no defined order\n",
    "# Duplicates are automatically removed\n",
    "data = {\"Abel\", \"Abel\", \"Ayele\", \"Abera\"}\n",
    "# Duplicates are automatically removed.\n",
    "print(type(data))\n",
    "print(data)"
   ]
  },
  {
   "cell_type": "code",
   "execution_count": null,
   "id": "88592cb6-e9b4-4cd8-af2d-84d6b467d1a0",
   "metadata": {},
   "outputs": [],
   "source": []
  }
 ],
 "metadata": {
  "kernelspec": {
   "display_name": "Python 3 (ipykernel)",
   "language": "python",
   "name": "python3"
  },
  "language_info": {
   "codemirror_mode": {
    "name": "ipython",
    "version": 3
   },
   "file_extension": ".py",
   "mimetype": "text/x-python",
   "name": "python",
   "nbconvert_exporter": "python",
   "pygments_lexer": "ipython3",
   "version": "3.12.7"
  }
 },
 "nbformat": 4,
 "nbformat_minor": 5
}
