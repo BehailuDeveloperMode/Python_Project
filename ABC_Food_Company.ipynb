{
 "cells": [
  {
   "cell_type": "markdown",
   "id": "9def4d9e",
   "metadata": {},
   "source": [
    "##  Scenario\n",
    "    Given a data set named “Food.csv” ABC is a leading food company that has a chain across India. \n",
    "    It is planning to set up more franchises across the globe and wants to analyze which course food is the best seller and     depending on what factors. \n",
    "    They want to have an algorithm that can help them to start with which dishes they should add to the menu, which dishes     need to be removed, and so on. We need to analyze the data using Python.\n",
    "    Data Description\n",
    "    dish_name: Different types of dishes named for eating.\n",
    "    Ingredients: Different ingredients and materials used in the food\n",
    "    category: Vegetarian/Non-vegetarian\n",
    "    preparing_time: Time taken to prepare the dish\n",
    "    cooking_time: Time taken to cook food\n",
    "    flavor course: Taste of dishes (Sweet/Spicy/Bitter/Sour)\n",
    "    state: Origin state of the dish\n",
    "    region: Different regions of India\n",
    "    best_seller: Is it a best-selling item? (Y/N)"
   ]
  },
  {
   "cell_type": "markdown",
   "id": "b9799712",
   "metadata": {},
   "source": [
    "### The following are the tasks that need to be performed:\n"
   ]
  },
  {
   "cell_type": "markdown",
   "id": "9588eb09",
   "metadata": {},
   "source": [
    "    1. Use python script and load CSV file named “Food.csv”.\n",
    "        a. Do missing values analysis on the preparing_time and cooking_time and fill missing value. \n",
    "        b. Change the state and region where the value is -1 to All. Hint: It means it is famous in all states.\n",
    "    2. Change the datatype of preparing_time and cooking_time to numeric in the loaded data set.\n",
    "    3. Create a new column based on ingredients and name it “Contains Sugar”.\n",
    "        Hint: Mark it Yes if the ingredient column has sugar as one of the ingredients or No if it doesn’t.\n",
    "    4. Print state-wise best seller dishes in the main course group by category. Ignore the states where values are “All”.\n",
    "    5. List all the sweets which take more than 35 min of cooking time.\n",
    "    6. Rename the category column to Food Choice. \n",
    "       a. Change the values vegetarian to veg and non-vegetarian to non-veg."
   ]
  },
  {
   "cell_type": "code",
   "execution_count": 1,
   "id": "643da32c",
   "metadata": {},
   "outputs": [
    {
     "name": "stdout",
     "output_type": "stream",
     "text": [
      "Column names:\n",
      "Index(['dish_name', 'ingredients ', 'category', 'preparing_time',\n",
      "       'cooking_time', 'flavor', 'course', 'state', 'region', 'best_seller'],\n",
      "      dtype='object')\n",
      "\n",
      "Missing values before filling:\n",
      "dish_name         0\n",
      "ingredients       0\n",
      "category          0\n",
      "preparing_time    4\n",
      "cooking_time      3\n",
      "flavor            0\n",
      "course            0\n",
      "state             0\n",
      "region            1\n",
      "best_seller       0\n",
      "dtype: int64\n",
      "\n",
      "Data after filling missing values, changing values to 'All', and creating 'Contains Sugar' column:\n",
      "          dish_name                                       ingredients   \\\n",
      "0        Balu shahi                    Maida flour, yogurt, oil, sugar   \n",
      "1            Boondi                            Gram flour, ghee, sugar   \n",
      "2    Gajar ka halwa       Carrots, milk, sugar, ghee, cashews, raisins   \n",
      "3            Ghevar  Flour, ghee, kewra, milk, clarified butter, su...   \n",
      "4       Gulab jamun  Milk powder, plain flour, baking powder, ghee,...   \n",
      "..              ...                                                ...   \n",
      "250       Til Pitha            Glutinous rice, black sesame seeds, gur   \n",
      "251         Bebinca  Coconut milk, egg yolks, clarified butter, all...   \n",
      "252          Shufta  Cottage cheese, dry dates, dried rose petals, ...   \n",
      "253       Mawa Bati  Milk powder, dry fruits, arrowroot powder, all...   \n",
      "254          Pinaca  Brown rice, fennel seeds, grated coconut, blac...   \n",
      "\n",
      "       category  preparing_time  cooking_time flavor   course  \\\n",
      "0    vegetarian        45.00000     25.000000  sweet  dessert   \n",
      "1    vegetarian        80.00000     34.521912  sweet  dessert   \n",
      "2    vegetarian        15.00000     60.000000  sweet  dessert   \n",
      "3    vegetarian        31.50996     30.000000  sweet  dessert   \n",
      "4    vegetarian        15.00000     40.000000  sweet  dessert   \n",
      "..          ...             ...           ...    ...      ...   \n",
      "250  vegetarian         5.00000     30.000000  sweet  dessert   \n",
      "251  vegetarian        20.00000     60.000000  sweet  dessert   \n",
      "252  vegetarian        -1.00000     -1.000000  sweet  dessert   \n",
      "253  vegetarian        20.00000     45.000000  sweet  dessert   \n",
      "254  vegetarian        -1.00000     -1.000000  sweet  dessert   \n",
      "\n",
      "               state      region best_seller  \n",
      "0        West Bengal        East           N  \n",
      "1          Rajasthan        West           Y  \n",
      "2             Punjab       North           N  \n",
      "3          Rajasthan        West           Y  \n",
      "4        West Bengal        East           Y  \n",
      "..               ...         ...         ...  \n",
      "250            Assam  North East           N  \n",
      "251              Goa        West           N  \n",
      "252  Jammu & Kashmir       North           N  \n",
      "253   Madhya Pradesh     Central           Y  \n",
      "254              Goa        West           N  \n",
      "\n",
      "[255 rows x 10 columns]\n"
     ]
    }
   ],
   "source": [
    "import pandas as pd\n",
    "\n",
    "# Load the CSV file\n",
    "file_path = \"C:/Users/behai/GitHub/Project_DataSource/Food.csv\"\n",
    "df = pd.read_csv(file_path)\n",
    "\n",
    "# Display the column names to identify the correct column for ingredients\n",
    "print(\"Column names:\")\n",
    "print(df.columns)\n",
    "\n",
    "# Missing values analysis\n",
    "missing_values = df.isnull().sum()\n",
    "print(\"\\nMissing values before filling:\")\n",
    "print(missing_values)\n",
    "\n",
    "# Convert 'cooking_time' to numeric type\n",
    "df['cooking_time'] = pd.to_numeric(df['cooking_time'], errors='coerce')\n",
    "\n",
    "# Fill missing values in preparing_time and cooking_time\n",
    "df['preparing_time'].fillna(df['preparing_time'].mean(), inplace=True)\n",
    "df['cooking_time'].fillna(df['cooking_time'].mean(), inplace=True)\n",
    "\n",
    "# Change values in 'state' and 'region' where the value is -1 to 'All'\n",
    "df.loc[df['state'] == -1, 'state'] = 'All'\n",
    "df.loc[df['region'] == -1, 'region'] = 'All'\n",
    "\n",
    "# Display the data after filling missing values, changing values to 'All', and creating 'Contains Sugar' column\n",
    "print(\"\\nData after filling missing values, changing values to 'All', and creating 'Contains Sugar' column:\")\n",
    "print(df)"
   ]
  }
 ],
 "metadata": {
  "kernelspec": {
   "display_name": "Python 3 (ipykernel)",
   "language": "python",
   "name": "python3"
  },
  "language_info": {
   "codemirror_mode": {
    "name": "ipython",
    "version": 3
   },
   "file_extension": ".py",
   "mimetype": "text/x-python",
   "name": "python",
   "nbconvert_exporter": "python",
   "pygments_lexer": "ipython3",
   "version": "3.11.4"
  }
 },
 "nbformat": 4,
 "nbformat_minor": 5
}
